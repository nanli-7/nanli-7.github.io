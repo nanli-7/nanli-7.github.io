{
 "cells": [
  {
   "cell_type": "markdown",
   "metadata": {},
   "source": [
    "Write your post here."
   ]
  }
 ],
 "metadata": {
  "kernelspec": {
   "display_name": "Python 2",
   "env": {},
   "language": "python",
   "name": "python2"
  },
  "nikola": {
   "category": "",
   "date": "2017-02-12 12:11:11 UTC-05:00",
   "description": "",
   "link": "",
   "slug": "test-my-first-ipython-notebook-post",
   "tags": "",
   "title": "test my first ipython notebook post",
   "type": "text"
  }
 },
 "nbformat": 4,
 "nbformat_minor": 1
}
